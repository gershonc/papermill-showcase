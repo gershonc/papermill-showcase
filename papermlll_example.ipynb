{
 "cells": [
  {
   "cell_type": "code",
   "execution_count": 6,
   "id": "a6f7cf49-2a67-4331-ae4b-b1c45a33fb40",
   "metadata": {
    "tags": [
     "parameters"
    ]
   },
   "outputs": [],
   "source": [
    "name = \"\"\n",
    "run_time =\"\""
   ]
  },
  {
   "cell_type": "code",
   "execution_count": 7,
   "id": "e7d6af7a",
   "metadata": {},
   "outputs": [
    {
     "name": "stdout",
     "output_type": "stream",
     "text": [
      "Hello  \n",
      "The notebook ran at:  \n"
     ]
    }
   ],
   "source": [
    "print ('Hello ',name,)\n",
    "print ('The notebook ran at:',run_time)"
   ]
  }
 ],
 "metadata": {
  "celltoolbar": "Tags",
  "kernelspec": {
   "display_name": "Python 3",
   "language": "python",
   "name": "python3"
  },
  "language_info": {
   "codemirror_mode": {
    "name": "ipython",
    "version": 3
   },
   "file_extension": ".py",
   "mimetype": "text/x-python",
   "name": "python",
   "nbconvert_exporter": "python",
   "pygments_lexer": "ipython3",
   "version": "3.8.8"
  }
 },
 "nbformat": 4,
 "nbformat_minor": 5
}
