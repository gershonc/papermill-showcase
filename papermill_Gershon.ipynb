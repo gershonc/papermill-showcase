{
 "cells": [
  {
   "cell_type": "code",
   "execution_count": 1,
   "id": "a6f7cf49-2a67-4331-ae4b-b1c45a33fb40",
   "metadata": {
    "execution": {
     "iopub.execute_input": "2021-09-22T17:35:36.529451Z",
     "iopub.status.busy": "2021-09-22T17:35:36.529451Z",
     "iopub.status.idle": "2021-09-22T17:35:36.539460Z",
     "shell.execute_reply": "2021-09-22T17:35:36.539460Z"
    },
    "papermill": {
     "duration": 0.017016,
     "end_time": "2021-09-22T17:35:36.539460",
     "exception": false,
     "start_time": "2021-09-22T17:35:36.522444",
     "status": "completed"
    },
    "tags": [
     "parameters"
    ]
   },
   "outputs": [],
   "source": [
    "name = \"\""
   ]
  },
  {
   "cell_type": "code",
   "execution_count": 2,
   "id": "ff0b2c57",
   "metadata": {
    "execution": {
     "iopub.execute_input": "2021-09-22T17:35:36.552472Z",
     "iopub.status.busy": "2021-09-22T17:35:36.552472Z",
     "iopub.status.idle": "2021-09-22T17:35:36.553472Z",
     "shell.execute_reply": "2021-09-22T17:35:36.554474Z"
    },
    "papermill": {
     "duration": 0.010009,
     "end_time": "2021-09-22T17:35:36.554474",
     "exception": false,
     "start_time": "2021-09-22T17:35:36.544465",
     "status": "completed"
    },
    "tags": [
     "injected-parameters"
    ]
   },
   "outputs": [],
   "source": [
    "# Parameters\n",
    "name = \"Gershon\"\n"
   ]
  },
  {
   "cell_type": "code",
   "execution_count": 3,
   "id": "e7d6af7a",
   "metadata": {
    "execution": {
     "iopub.execute_input": "2021-09-22T17:35:36.568486Z",
     "iopub.status.busy": "2021-09-22T17:35:36.567485Z",
     "iopub.status.idle": "2021-09-22T17:35:36.585502Z",
     "shell.execute_reply": "2021-09-22T17:35:36.585502Z"
    },
    "papermill": {
     "duration": 0.027025,
     "end_time": "2021-09-22T17:35:36.585502",
     "exception": false,
     "start_time": "2021-09-22T17:35:36.558477",
     "status": "completed"
    },
    "tags": []
   },
   "outputs": [
    {
     "name": "stdout",
     "output_type": "stream",
     "text": [
      "Hello  Gershon\n"
     ]
    }
   ],
   "source": [
    "print ('Hello ',name)"
   ]
  },
  {
   "cell_type": "code",
   "execution_count": null,
   "id": "864bce6c",
   "metadata": {},
   "outputs": [],
   "source": []
  }
 ],
 "metadata": {
  "celltoolbar": "Tags",
  "kernelspec": {
   "display_name": "Python 3",
   "language": "python",
   "name": "python3"
  },
  "language_info": {
   "codemirror_mode": {
    "name": "ipython",
    "version": 3
   },
   "file_extension": ".py",
   "mimetype": "text/x-python",
   "name": "python",
   "nbconvert_exporter": "python",
   "pygments_lexer": "ipython3",
   "version": "3.8.8"
  },
  "papermill": {
   "default_parameters": {},
   "duration": 2.047185,
   "end_time": "2021-09-22T17:35:37.819602",
   "environment_variables": {},
   "exception": null,
   "input_path": "papermlll_example.ipynb",
   "output_path": "papermill_Gershon.ipynb",
   "parameters": {
    "name": "Gershon"
   },
   "start_time": "2021-09-22T17:35:35.772417",
   "version": "2.3.3"
  }
 },
 "nbformat": 4,
 "nbformat_minor": 5
}
